{
 "cells": [
  {
   "cell_type": "code",
   "execution_count": 1,
   "metadata": {},
   "outputs": [],
   "source": [
    "# some experiments\n",
    "import networkx as nx\n",
    "import numpy as np\n",
    "import pandas as pd\n",
    "# from utils.problem_builder import generate_graph"
   ]
  },
  {
   "cell_type": "code",
   "execution_count": 56,
   "metadata": {},
   "outputs": [],
   "source": [
    "# import data\n",
    "orders_data = pd.read_csv('./orders.csv')[:6]\n",
    "distance_matrix = pd.read_csv('./distance_matrix.csv', index_col=0).iloc[:6, :6]\n"
   ]
  },
  {
   "cell_type": "code",
   "execution_count": 57,
   "metadata": {},
   "outputs": [
    {
     "data": {
      "text/html": [
       "<div>\n",
       "<style scoped>\n",
       "    .dataframe tbody tr th:only-of-type {\n",
       "        vertical-align: middle;\n",
       "    }\n",
       "\n",
       "    .dataframe tbody tr th {\n",
       "        vertical-align: top;\n",
       "    }\n",
       "\n",
       "    .dataframe thead th {\n",
       "        text-align: right;\n",
       "    }\n",
       "</style>\n",
       "<table border=\"1\" class=\"dataframe\">\n",
       "  <thead>\n",
       "    <tr style=\"text-align: right;\">\n",
       "      <th></th>\n",
       "      <th>Kraków</th>\n",
       "      <th>Białystok</th>\n",
       "      <th>Bielsko-Biała</th>\n",
       "      <th>Chrzanów</th>\n",
       "      <th>Gdańsk</th>\n",
       "      <th>Gdynia</th>\n",
       "    </tr>\n",
       "  </thead>\n",
       "  <tbody>\n",
       "    <tr>\n",
       "      <th>Kraków</th>\n",
       "      <td>0.000000</td>\n",
       "      <td>477.395329</td>\n",
       "      <td>102.318127</td>\n",
       "      <td>59.955709</td>\n",
       "      <td>475.243743</td>\n",
       "      <td>492.744242</td>\n",
       "    </tr>\n",
       "    <tr>\n",
       "      <th>Białystok</th>\n",
       "      <td>477.395329</td>\n",
       "      <td>0.000000</td>\n",
       "      <td>570.589737</td>\n",
       "      <td>518.682870</td>\n",
       "      <td>502.064756</td>\n",
       "      <td>532.182685</td>\n",
       "    </tr>\n",
       "    <tr>\n",
       "      <th>Bielsko-Biała</th>\n",
       "      <td>102.318127</td>\n",
       "      <td>570.589737</td>\n",
       "      <td>0.000000</td>\n",
       "      <td>52.024945</td>\n",
       "      <td>485.320986</td>\n",
       "      <td>497.323453</td>\n",
       "    </tr>\n",
       "    <tr>\n",
       "      <th>Chrzanów</th>\n",
       "      <td>59.955709</td>\n",
       "      <td>518.682870</td>\n",
       "      <td>52.024945</td>\n",
       "      <td>0.000000</td>\n",
       "      <td>455.486086</td>\n",
       "      <td>469.958469</td>\n",
       "    </tr>\n",
       "    <tr>\n",
       "      <th>Gdańsk</th>\n",
       "      <td>475.243743</td>\n",
       "      <td>502.064756</td>\n",
       "      <td>485.320986</td>\n",
       "      <td>455.486086</td>\n",
       "      <td>0.000000</td>\n",
       "      <td>30.144525</td>\n",
       "    </tr>\n",
       "    <tr>\n",
       "      <th>Gdynia</th>\n",
       "      <td>492.744242</td>\n",
       "      <td>532.182685</td>\n",
       "      <td>497.323453</td>\n",
       "      <td>469.958469</td>\n",
       "      <td>30.144525</td>\n",
       "      <td>0.000000</td>\n",
       "    </tr>\n",
       "  </tbody>\n",
       "</table>\n",
       "</div>"
      ],
      "text/plain": [
       "                   Kraków   Białystok  Bielsko-Biała    Chrzanów      Gdańsk  \\\n",
       "Kraków           0.000000  477.395329     102.318127   59.955709  475.243743   \n",
       "Białystok      477.395329    0.000000     570.589737  518.682870  502.064756   \n",
       "Bielsko-Biała  102.318127  570.589737       0.000000   52.024945  485.320986   \n",
       "Chrzanów        59.955709  518.682870      52.024945    0.000000  455.486086   \n",
       "Gdańsk         475.243743  502.064756     485.320986  455.486086    0.000000   \n",
       "Gdynia         492.744242  532.182685     497.323453  469.958469   30.144525   \n",
       "\n",
       "                   Gdynia  \n",
       "Kraków         492.744242  \n",
       "Białystok      532.182685  \n",
       "Bielsko-Biała  497.323453  \n",
       "Chrzanów       469.958469  \n",
       "Gdańsk          30.144525  \n",
       "Gdynia           0.000000  "
      ]
     },
     "execution_count": 57,
     "metadata": {},
     "output_type": "execute_result"
    }
   ],
   "source": [
    "distance_matrix"
   ]
  },
  {
   "cell_type": "code",
   "execution_count": 58,
   "metadata": {},
   "outputs": [],
   "source": [
    "def generate_graph(orders_data, distance_matrix):\n",
    "    G = nx.Graph()\n",
    "    for city in orders_data['city']:\n",
    "        row = orders_data[orders_data['city'] == city]\n",
    "        location = (row['longitude'].iloc[0], row['latitude'].iloc[0])\n",
    "        G.add_node(city, location=location)\n",
    "\n",
    "    for origin in orders_data['city']:\n",
    "        for destination in orders_data['city']:\n",
    "            if origin != destination:\n",
    "                distance = distance_matrix.at[origin, destination]\n",
    "                G.add_edge(origin, destination, distance=distance)\n",
    "    \n",
    "    return G\n",
    "\n",
    "\n",
    "G = generate_graph(orders_data, distance_matrix)"
   ]
  },
  {
   "cell_type": "code",
   "execution_count": 59,
   "metadata": {},
   "outputs": [
    {
     "name": "stdout",
     "output_type": "stream",
     "text": [
      "[('Kraków', 'Białystok'), ('Kraków', 'Bielsko-Biała'), ('Kraków', 'Chrzanów'), ('Kraków', 'Gdańsk'), ('Kraków', 'Gdynia'), ('Białystok', 'Bielsko-Biała'), ('Białystok', 'Chrzanów'), ('Białystok', 'Gdańsk'), ('Białystok', 'Gdynia'), ('Bielsko-Biała', 'Chrzanów'), ('Bielsko-Biała', 'Gdańsk'), ('Bielsko-Biała', 'Gdynia'), ('Chrzanów', 'Gdańsk'), ('Chrzanów', 'Gdynia'), ('Gdańsk', 'Gdynia')]\n"
     ]
    }
   ],
   "source": [
    "print(G.edges)"
   ]
  },
  {
   "cell_type": "code",
   "execution_count": 60,
   "metadata": {},
   "outputs": [
    {
     "name": "stdout",
     "output_type": "stream",
     "text": [
      "Shortest Route: ['Kraków', 'Chrzanów', 'Bielsko-Biała', 'Gdynia', 'Gdańsk', 'Białystok', 'Kraków']\n",
      "Total Distance: 1618.908717205671\n"
     ]
    }
   ],
   "source": [
    "import itertools\n",
    "def calculate_total_distance(G, route):\n",
    "    total_distance = 0\n",
    "    for i in range(len(route) - 1):\n",
    "        total_distance += G[route[i]][route[i+1]]['distance']\n",
    "    return total_distance\n",
    "\n",
    "cities = list(G.nodes)\n",
    "shortest_distance = float('inf')\n",
    "shortest_route = None\n",
    "\n",
    "for route in itertools.permutations(cities[1:]):\n",
    "    route = [cities[0]] + list(route) + [cities[0]]  # Start and end at the first city\n",
    "    distance = calculate_total_distance(G, route)\n",
    "    if distance < shortest_distance:\n",
    "        shortest_distance = distance\n",
    "        shortest_route = route\n",
    "\n",
    "print(\"Shortest Route:\", shortest_route)\n",
    "print(\"Total Distance:\", shortest_distance)\n"
   ]
  },
  {
   "cell_type": "code",
   "execution_count": 61,
   "metadata": {},
   "outputs": [],
   "source": [
    "def nearest_neighbor(G, depot, unvisited):\n",
    "    route = [depot]\n",
    "    current_city = depot\n",
    "\n",
    "    while unvisited:\n",
    "        next_city = min(unvisited, key=lambda x: G[current_city][x]['distance'])\n",
    "        route.append(next_city)\n",
    "        unvisited.remove(next_city)\n",
    "        current_city = next_city\n",
    "\n",
    "    route.append(depot)\n",
    "    return route"
   ]
  },
  {
   "cell_type": "code",
   "execution_count": 69,
   "metadata": {},
   "outputs": [
    {
     "name": "stdout",
     "output_type": "stream",
     "text": [
      "Route: ['Kraków', 'Chrzanów', 'Bielsko-Biała', 'Gdańsk', 'Gdynia', 'Białystok', 'Kraków']\n",
      "Distance: 1637.024179318168\n"
     ]
    }
   ],
   "source": [
    "depot = 'Kraków'  # Replace with your depot city\n",
    "cities = list(G.nodes)\n",
    "cities.remove(depot)\n",
    "\n",
    "route = nearest_neighbor(G, depot, cities.copy())\n",
    "print(\"Route:\", route)\n",
    "print(\"Distance:\", calculate_total_distance(G, route))"
   ]
  },
  {
   "cell_type": "code",
   "execution_count": 65,
   "metadata": {},
   "outputs": [],
   "source": [
    "# def simulated_annealing(G, initial_solution, initial_temp, final_temp, alpha):\n",
    "#     current_solution = initial_solution\n",
    "#     current_cost = calculate_cost(G, current_solution)\n",
    "#     temperature = initial_temp\n",
    "\n",
    "#     while temperature > final_temp:\n",
    "#         neighbor = generate_neighbor(current_solution)\n",
    "#         neighbor_cost = calculate_cost(G, neighbor)\n",
    "        \n",
    "#         if acceptance_probability(current_cost, neighbor_cost, temperature) > random.random():\n",
    "#             current_solution = neighbor\n",
    "#             current_cost = neighbor_cost\n",
    "\n",
    "#         temperature *= alpha  # Cooling down\n",
    "\n",
    "#     return current_solution\n",
    "\n",
    "# def acceptance_probability(current_cost, neighbor_cost, temperature):\n",
    "#     if neighbor_cost < current_cost:\n",
    "#         return 1.0\n",
    "#     return math.exp((current_cost - neighbor_cost) / temperature)\n",
    "\n",
    "# # Example parameters\n",
    "# initial_temp = 10000\n",
    "# final_temp = 1\n",
    "# alpha = 0.99\n",
    "\n",
    "# # Generate an initial solution\n",
    "# initial_solution = generate_initial_solution(G, num_vehicles)\n",
    "\n",
    "# # Run the algorithm\n",
    "# solution = simulated_annealing(G, initial_solution, initial_temp, final_temp, alpha)"
   ]
  },
  {
   "cell_type": "code",
   "execution_count": 70,
   "metadata": {},
   "outputs": [
    {
     "ename": "ValueError",
     "evalue": "list.remove(x): x not in list",
     "output_type": "error",
     "traceback": [
      "\u001b[1;31m---------------------------------------------------------------------------\u001b[0m",
      "\u001b[1;31mValueError\u001b[0m                                Traceback (most recent call last)",
      "Cell \u001b[1;32mIn[70], line 3\u001b[0m\n\u001b[0;32m      1\u001b[0m depot \u001b[38;5;241m=\u001b[39m \u001b[38;5;124m'\u001b[39m\u001b[38;5;124mDepot\u001b[39m\u001b[38;5;124m'\u001b[39m  \u001b[38;5;66;03m# Replace with your depot city\u001b[39;00m\n\u001b[0;32m      2\u001b[0m cities \u001b[38;5;241m=\u001b[39m \u001b[38;5;28mlist\u001b[39m(G\u001b[38;5;241m.\u001b[39mnodes)\n\u001b[1;32m----> 3\u001b[0m \u001b[43mcities\u001b[49m\u001b[38;5;241;43m.\u001b[39;49m\u001b[43mremove\u001b[49m\u001b[43m(\u001b[49m\u001b[43mdepot\u001b[49m\u001b[43m)\u001b[49m\n\u001b[0;32m      4\u001b[0m num_vehicles \u001b[38;5;241m=\u001b[39m \u001b[38;5;241m2\u001b[39m  \u001b[38;5;66;03m# Number of vehicles\u001b[39;00m\n\u001b[0;32m      6\u001b[0m routes \u001b[38;5;241m=\u001b[39m vrp_nearest_neighbor(G, depot, cities, num_vehicles)\n",
      "\u001b[1;31mValueError\u001b[0m: list.remove(x): x not in list"
     ]
    }
   ],
   "source": [
    "\n",
    "depot = 'Depot'  # Replace with your depot city\n",
    "cities = list(G.nodes)\n",
    "cities.remove(depot)\n",
    "num_vehicles = 2  # Number of vehicles\n",
    "\n",
    "routes = vrp_nearest_neighbor(G, depot, cities, num_vehicles)\n",
    "for i, route in enumerate(routes):\n",
    "    print(f\"Vehicle {i+1} Route:\", route)"
   ]
  },
  {
   "cell_type": "code",
   "execution_count": 68,
   "metadata": {},
   "outputs": [
    {
     "data": {
      "text/plain": [
       "NodeView(('Kraków', 'Białystok', 'Bielsko-Biała', 'Chrzanów', 'Gdańsk', 'Gdynia'))"
      ]
     },
     "execution_count": 68,
     "metadata": {},
     "output_type": "execute_result"
    }
   ],
   "source": [
    "G.nodes"
   ]
  },
  {
   "cell_type": "code",
   "execution_count": null,
   "metadata": {},
   "outputs": [],
   "source": []
  }
 ],
 "metadata": {
  "kernelspec": {
   "display_name": "venv",
   "language": "python",
   "name": "python3"
  },
  "language_info": {
   "codemirror_mode": {
    "name": "ipython",
    "version": 3
   },
   "file_extension": ".py",
   "mimetype": "text/x-python",
   "name": "python",
   "nbconvert_exporter": "python",
   "pygments_lexer": "ipython3",
   "version": "3.10.11"
  }
 },
 "nbformat": 4,
 "nbformat_minor": 2
}

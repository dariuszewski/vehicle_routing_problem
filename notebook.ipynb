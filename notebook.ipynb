{
 "cells": [
  {
   "cell_type": "code",
   "execution_count": 4,
   "metadata": {},
   "outputs": [],
   "source": [
    "#TODO: Unnecessary travels to the depo\n",
    "#TODO: Graph visuals\n",
    "from src.models.city_list import CityList\n",
    "from src.models.fleet import Fleet\n",
    "from src.algorithms.simulated_annealing import SimulatedAnnealing\n",
    "\n",
    "city_list = CityList.from_csv('./temp/orders_multiple_depots.csv')\n",
    "fleet = Fleet(num_vehicles=5, vehicle_capacity=1000, city_list=city_list)\n",
    "SA = SimulatedAnnealing(fleet=fleet, epochs=15, attempts=3, initial_temp=100,\n",
    "                        cooling_rate=0.9, annealing_method='city_swap',\n",
    "                        store_solutions=True)"
   ]
  },
  {
   "cell_type": "code",
   "execution_count": 5,
   "metadata": {},
   "outputs": [
    {
     "name": "stdout",
     "output_type": "stream",
     "text": [
      "-----------Simulated Annealing Algorithm-----------\n",
      "Current Temperature  : 20.59\n",
      "Initial Temperature  : 100\n",
      "Cooling Factor       : 0.9\n",
      "Epochs               : 15\n",
      "Attempts             : 3\n",
      "Fleet size           : 5\n",
      "Vehicle Capacity     : 1000\n",
      "Total Locations      : 31\n",
      "Total Depots         : 2\n",
      "Initial Shortest     : 10233.058\n",
      "Current Shortest     : 8880.783\n",
      "---------------------------------------------------\n"
     ]
    }
   ],
   "source": [
    "solution = SA.optimize()\n",
    "print(SA)"
   ]
  },
  {
   "cell_type": "code",
   "execution_count": 6,
   "metadata": {},
   "outputs": [
    {
     "name": "stdout",
     "output_type": "stream",
     "text": [
      "Total distance covered: 8880.783\n",
      "Vehicle: 2857712479936\n",
      "Order: 940 | Length: 1518.582287338946 | Kraków (0) -> Bielsko-Biała (50) -> Szczucin (60) -> Kielce (30) -> Puławy (200) -> Poznań (100) -> Białystok (500) -> Gdańsk (0)\n",
      "Vehicle: 2857712477632\n",
      "Order: 790 | Length: 1858.1999996298487 | Kraków (0) -> Tarnów (70) -> Radom (100) -> Gdynia (100) -> Chrzanów (400) -> Krosno (60) -> Rzeszów (60) -> Gdańsk (0)\n",
      "Vehicle: 2857712504544\n",
      "Order: 650 | Length: 1742.6806923026295 | Kraków (0) -> Katowice (300) -> Sandomierz (200) -> Wrocław (40) -> Krynica (50) -> Lublin (60) -> Gdańsk (0)\n",
      "Order: 300 | Length: 262.64283334911636 | Gdańsk (0) -> Olsztyn (300) -> Gdańsk (0)\n",
      "Vehicle: 2857712503872\n",
      "Order: 910 | Length: 1325.4865250399625 | Kraków (0) -> Zakopane (200) -> Nowy Targ (120) -> Wieliczka (90) -> Gromnik (200) -> Warszawa (200) -> Malbork (100) -> Gdańsk (0)\n",
      "Vehicle: 2857712503680\n",
      "Order: 700 | Length: 2173.1898540991638 | Kraków (0) -> Szczecin (150) -> Szklarska Poręba (50) -> Zamość (300) -> Gliwice (40) -> Łódź (160) -> Gdańsk (0)\n"
     ]
    }
   ],
   "source": [
    "# print routes\n",
    "print('Total distance covered:', solution.distance_covered)\n",
    "for vehicle in solution:\n",
    "    print(f'Vehicle: {id(vehicle)}')\n",
    "    for route in vehicle.route_list:\n",
    "        print(route)"
   ]
  },
  {
   "cell_type": "code",
   "execution_count": null,
   "metadata": {},
   "outputs": [],
   "source": []
  },
  {
   "cell_type": "code",
   "execution_count": null,
   "metadata": {},
   "outputs": [],
   "source": []
  }
 ],
 "metadata": {
  "kernelspec": {
   "display_name": "venv",
   "language": "python",
   "name": "python3"
  },
  "language_info": {
   "codemirror_mode": {
    "name": "ipython",
    "version": 3
   },
   "file_extension": ".py",
   "mimetype": "text/x-python",
   "name": "python",
   "nbconvert_exporter": "python",
   "pygments_lexer": "ipython3",
   "version": "3.10.11"
  }
 },
 "nbformat": 4,
 "nbformat_minor": 2
}
